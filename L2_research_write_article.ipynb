{
 "cells": [
  {
   "cell_type": "markdown",
   "metadata": {},
   "source": [
    "You can download the `requirements.txt` for this course from the workspace of this lab. `File --> Open...`"
   ]
  },
  {
   "cell_type": "markdown",
   "metadata": {},
   "source": [
    "# L2: Create Agents to Research and Write an Article\n",
    "\n",
    "In this lesson, you will be introduced to the foundational concepts of multi-agent systems and get an overview of the crewAI framework."
   ]
  },
  {
   "cell_type": "markdown",
   "metadata": {},
   "source": [
    "The libraries are already installed in the classroom. If you're running this notebook on your own machine, you can install the following:\n",
    "```Python\n",
    "!pip install crewai==0.28.8 crewai_tools==0.1.6 langchain_community==0.0.29\n",
    "```"
   ]
  },
  {
   "cell_type": "code",
   "execution_count": 1,
   "metadata": {
    "height": 65
   },
   "outputs": [],
   "source": [
    "# Warning control\n",
    "import warnings\n",
    "warnings.filterwarnings('ignore')"
   ]
  },
  {
   "cell_type": "markdown",
   "metadata": {},
   "source": [
    "- Import from the crewAI libray."
   ]
  },
  {
   "cell_type": "code",
   "execution_count": 2,
   "metadata": {
    "height": 31
   },
   "outputs": [],
   "source": [
    "from crewai import Agent, Task, Crew"
   ]
  },
  {
   "cell_type": "markdown",
   "metadata": {},
   "source": [
    "- As a LLM for your agents, you'll be using OpenAI's `gpt-3.5-turbo`.\n",
    "\n",
    "**Optional Note:** crewAI also allow other popular models to be used as a LLM for your Agents. You can see some of the examples at the [bottom of the notebook](#1)."
   ]
  },
  {
   "cell_type": "code",
   "execution_count": 3,
   "metadata": {
    "height": 99
   },
   "outputs": [],
   "source": [
    "import os\n",
    "from utils import get_openai_api_key\n",
    "\n",
    "openai_api_key = get_openai_api_key()\n",
    "os.environ[\"OPENAI_MODEL_NAME\"] = 'gpt-3.5-turbo'"
   ]
  },
  {
   "cell_type": "markdown",
   "metadata": {},
   "source": [
    "## Creating Agents\n",
    "\n",
    "- Define your Agents, and provide them a `role`, `goal` and `backstory`.\n",
    "- It has been seen that LLMs perform better when they are role playing."
   ]
  },
  {
   "cell_type": "markdown",
   "metadata": {},
   "source": [
    "### Agent: Planner\n",
    "\n",
    "**Note**: The benefit of using _multiple strings_ :\n",
    "```Python\n",
    "varname = \"line 1 of text\"\n",
    "          \"line 2 of text\"\n",
    "```\n",
    "\n",
    "versus the _triple quote docstring_:\n",
    "```Python\n",
    "varname = \"\"\"line 1 of text\n",
    "             line 2 of text\n",
    "          \"\"\"\n",
    "```\n",
    "is that it can avoid adding those whitespaces and newline characters, making it better formatted to be passed to the LLM."
   ]
  },
  {
   "cell_type": "code",
   "execution_count": 4,
   "metadata": {
    "height": 251
   },
   "outputs": [],
   "source": [
    "planner = Agent(\n",
    "    role=\"Content Planner\",\n",
    "    goal=\"Plan engaging and factually accurate content on {topic}\",\n",
    "    backstory=\"You're working on planning a blog article \"\n",
    "              \"about the topic: {topic}.\"\n",
    "              \"You collect information that helps the \"\n",
    "              \"audience learn something \"\n",
    "              \"and make informed decisions. \"\n",
    "              \"Your work is the basis for \"\n",
    "              \"the Content Writer to write an article on this topic.\",\n",
    "    allow_delegation=False,\n",
    "\tverbose=True\n",
    ")"
   ]
  },
  {
   "cell_type": "markdown",
   "metadata": {},
   "source": [
    "### Agent: Writer"
   ]
  },
  {
   "cell_type": "code",
   "execution_count": 5,
   "metadata": {
    "height": 387
   },
   "outputs": [],
   "source": [
    "writer = Agent(\n",
    "    role=\"Content Writer\",\n",
    "    goal=\"Write insightful and factually accurate \"\n",
    "         \"opinion piece about the topic: {topic}\",\n",
    "    backstory=\"You're working on a writing \"\n",
    "              \"a new opinion piece about the topic: {topic}. \"\n",
    "              \"You base your writing on the work of \"\n",
    "              \"the Content Planner, who provides an outline \"\n",
    "              \"and relevant context about the topic. \"\n",
    "              \"You follow the main objectives and \"\n",
    "              \"direction of the outline, \"\n",
    "              \"as provide by the Content Planner. \"\n",
    "              \"You also provide objective and impartial insights \"\n",
    "              \"and back them up with information \"\n",
    "              \"provide by the Content Planner. \"\n",
    "              \"You acknowledge in your opinion piece \"\n",
    "              \"when your statements are opinions \"\n",
    "              \"as opposed to objective statements.\",\n",
    "    allow_delegation=False,\n",
    "    verbose=True\n",
    ")"
   ]
  },
  {
   "cell_type": "markdown",
   "metadata": {},
   "source": [
    "### Agent: Editor"
   ]
  },
  {
   "cell_type": "code",
   "execution_count": 6,
   "metadata": {
    "height": 285
   },
   "outputs": [],
   "source": [
    "editor = Agent(\n",
    "    role=\"Editor\",\n",
    "    goal=\"Edit a given blog post to align with \"\n",
    "         \"the writing style of the organization. \",\n",
    "    backstory=\"You are an editor who receives a blog post \"\n",
    "              \"from the Content Writer. \"\n",
    "              \"Your goal is to review the blog post \"\n",
    "              \"to ensure that it follows journalistic best practices,\"\n",
    "              \"provides balanced viewpoints \"\n",
    "              \"when providing opinions or assertions, \"\n",
    "              \"and also avoids major controversial topics \"\n",
    "              \"or opinions when possible.\",\n",
    "    allow_delegation=False,\n",
    "    verbose=True\n",
    ")"
   ]
  },
  {
   "cell_type": "markdown",
   "metadata": {},
   "source": [
    "## Creating Tasks\n",
    "\n",
    "- Define your Tasks, and provide them a `description`, `expected_output` and `agent`."
   ]
  },
  {
   "cell_type": "markdown",
   "metadata": {},
   "source": [
    "### Task: Plan"
   ]
  },
  {
   "cell_type": "code",
   "execution_count": 7,
   "metadata": {
    "height": 285
   },
   "outputs": [],
   "source": [
    "plan = Task(\n",
    "    description=(\n",
    "        \"1. Prioritize the latest trends, key players, \"\n",
    "            \"and noteworthy news on {topic}.\\n\"\n",
    "        \"2. Identify the target audience, considering \"\n",
    "            \"their interests and pain points.\\n\"\n",
    "        \"3. Develop a detailed content outline including \"\n",
    "            \"an introduction, key points, and a call to action.\\n\"\n",
    "        \"4. Include SEO keywords and relevant data or sources.\"\n",
    "    ),\n",
    "    expected_output=\"A comprehensive content plan document \"\n",
    "        \"with an outline, audience analysis, \"\n",
    "        \"SEO keywords, and resources.\",\n",
    "    agent=planner,\n",
    ")"
   ]
  },
  {
   "cell_type": "markdown",
   "metadata": {},
   "source": [
    "### Task: Write"
   ]
  },
  {
   "cell_type": "code",
   "execution_count": 8,
   "metadata": {
    "height": 336
   },
   "outputs": [],
   "source": [
    "write = Task(\n",
    "    description=(\n",
    "        \"1. Use the content plan to craft a compelling \"\n",
    "            \"blog post on {topic}.\\n\"\n",
    "        \"2. Incorporate SEO keywords naturally.\\n\"\n",
    "\t\t\"3. Sections/Subtitles are properly named \"\n",
    "            \"in an engaging manner.\\n\"\n",
    "        \"4. Ensure the post is structured with an \"\n",
    "            \"engaging introduction, insightful body, \"\n",
    "            \"and a summarizing conclusion.\\n\"\n",
    "        \"5. Proofread for grammatical errors and \"\n",
    "            \"alignment with the brand's voice.\\n\"\n",
    "    ),\n",
    "    expected_output=\"A well-written blog post \"\n",
    "        \"in markdown format, ready for publication, \"\n",
    "        \"each section should have 2 or 3 paragraphs.\",\n",
    "    agent=writer,\n",
    ")"
   ]
  },
  {
   "cell_type": "markdown",
   "metadata": {},
   "source": [
    "### Task: Edit"
   ]
  },
  {
   "cell_type": "code",
   "execution_count": 9,
   "metadata": {
    "height": 183
   },
   "outputs": [],
   "source": [
    "edit = Task(\n",
    "    description=(\"Proofread the given blog post for \"\n",
    "                 \"grammatical errors and \"\n",
    "                 \"alignment with the brand's voice.\"),\n",
    "    expected_output=\"A well-written blog post in markdown format, \"\n",
    "                    \"ready for publication, \"\n",
    "                    \"each section should have 2 or 3 paragraphs.\",\n",
    "    agent=editor\n",
    ")"
   ]
  },
  {
   "cell_type": "markdown",
   "metadata": {},
   "source": [
    "## Creating the Crew\n",
    "\n",
    "- Create your crew of Agents\n",
    "- Pass the tasks to be performed by those agents.\n",
    "    - **Note**: *For this simple example*, the tasks will be performed sequentially (i.e they are dependent on each other), so the _order_ of the task in the list _matters_.\n",
    "- `verbose=2` allows you to see all the logs of the execution. "
   ]
  },
  {
   "cell_type": "code",
   "execution_count": 10,
   "metadata": {
    "height": 99
   },
   "outputs": [],
   "source": [
    "crew = Crew(\n",
    "    agents=[planner, writer, editor],\n",
    "    tasks=[plan, write, edit],\n",
    "    verbose=2\n",
    ")"
   ]
  },
  {
   "cell_type": "markdown",
   "metadata": {},
   "source": [
    "## Running the Crew"
   ]
  },
  {
   "cell_type": "markdown",
   "metadata": {},
   "source": [
    "**Note**: LLMs can provide different outputs for they same input, so what you get might be different than what you see in the video."
   ]
  },
  {
   "cell_type": "code",
   "execution_count": 11,
   "metadata": {
    "height": 47
   },
   "outputs": [
    {
     "name": "stdout",
     "output_type": "stream",
     "text": [
      "\u001b[1m\u001b[95m [DEBUG]: == Working Agent: Content Planner\u001b[00m\n",
      "\u001b[1m\u001b[95m [INFO]: == Starting Task: 1. Prioritize the latest trends, key players, and noteworthy news on Artificial Intelligence.\n",
      "2. Identify the target audience, considering their interests and pain points.\n",
      "3. Develop a detailed content outline including an introduction, key points, and a call to action.\n",
      "4. Include SEO keywords and relevant data or sources.\u001b[00m\n",
      "\n",
      "\n",
      "\u001b[1m> Entering new CrewAgentExecutor chain...\u001b[0m\n",
      "\u001b[32;1m\u001b[1;3mI now can give a great answer\n",
      "\n",
      "Final Answer: \n",
      "\n",
      "Title: The Future of Artificial Intelligence: Latest Trends and Key Players\n",
      "\n",
      "Introduction:\n",
      "- Brief overview of the current state of Artificial Intelligence (AI) technology\n",
      "- Importance of staying updated on the latest trends and key players in the AI industry\n",
      "- Purpose of the article: to educate and inform the audience on the advancements in AI\n",
      "\n",
      "Key Points:\n",
      "1. Latest Trends in Artificial Intelligence:\n",
      "- Machine learning and deep learning advancements\n",
      "- Ethical considerations in AI development\n",
      "- Integration of AI in various industries such as healthcare, finance, and transportation\n",
      "\n",
      "2. Key Players in the AI Industry:\n",
      "- Google AI\n",
      "- IBM Watson\n",
      "- Microsoft Azure AI\n",
      "- Amazon Web Services AI\n",
      "- OpenAI\n",
      "- NVIDIA\n",
      "\n",
      "3. Noteworthy News in Artificial Intelligence:\n",
      "- Recent breakthroughs in natural language processing\n",
      "- Applications of AI in autonomous vehicles\n",
      "- Impact of AI on job automation and workforce changes\n",
      "\n",
      "Audience Analysis:\n",
      "- Target audience: tech enthusiasts, industry professionals, business leaders\n",
      "- Interests: staying updated on AI technology, understanding the impact of AI on different industries\n",
      "- Pain points: navigating the complexities of AI technology, identifying trustworthy sources for AI news and information\n",
      "\n",
      "SEO Keywords:\n",
      "- Artificial Intelligence trends\n",
      "- Key players in AI industry\n",
      "- Latest news in AI\n",
      "- AI technology advancements\n",
      "\n",
      "Call to Action:\n",
      "- Encourage readers to subscribe to a newsletter for regular updates on AI trends and news\n",
      "- Invite readers to engage in discussions on social media platforms about the future of AI\n",
      "- Provide links to relevant resources and articles for further reading\n",
      "\n",
      "Resources:\n",
      "- Forbes: \"Top Artificial Intelligence Companies Leading the AI Revolution\"\n",
      "- MIT Technology Review: \"The Ethics of Artificial Intelligence\"\n",
      "- TechCrunch: \"Latest Developments in AI Technology\"\n",
      "- World Economic Forum: \"The Future of Jobs Report 2020\" \n",
      "\n",
      "By following this comprehensive content plan, the blog article on the latest trends and key players in Artificial Intelligence will provide valuable insights and information to the target audience, ultimately achieving the goal of educating and engaging readers on the future of AI technology.\u001b[0m\n",
      "\n",
      "\u001b[1m> Finished chain.\u001b[0m\n",
      "\u001b[1m\u001b[92m [DEBUG]: == [Content Planner] Task output: Title: The Future of Artificial Intelligence: Latest Trends and Key Players\n",
      "\n",
      "Introduction:\n",
      "- Brief overview of the current state of Artificial Intelligence (AI) technology\n",
      "- Importance of staying updated on the latest trends and key players in the AI industry\n",
      "- Purpose of the article: to educate and inform the audience on the advancements in AI\n",
      "\n",
      "Key Points:\n",
      "1. Latest Trends in Artificial Intelligence:\n",
      "- Machine learning and deep learning advancements\n",
      "- Ethical considerations in AI development\n",
      "- Integration of AI in various industries such as healthcare, finance, and transportation\n",
      "\n",
      "2. Key Players in the AI Industry:\n",
      "- Google AI\n",
      "- IBM Watson\n",
      "- Microsoft Azure AI\n",
      "- Amazon Web Services AI\n",
      "- OpenAI\n",
      "- NVIDIA\n",
      "\n",
      "3. Noteworthy News in Artificial Intelligence:\n",
      "- Recent breakthroughs in natural language processing\n",
      "- Applications of AI in autonomous vehicles\n",
      "- Impact of AI on job automation and workforce changes\n",
      "\n",
      "Audience Analysis:\n",
      "- Target audience: tech enthusiasts, industry professionals, business leaders\n",
      "- Interests: staying updated on AI technology, understanding the impact of AI on different industries\n",
      "- Pain points: navigating the complexities of AI technology, identifying trustworthy sources for AI news and information\n",
      "\n",
      "SEO Keywords:\n",
      "- Artificial Intelligence trends\n",
      "- Key players in AI industry\n",
      "- Latest news in AI\n",
      "- AI technology advancements\n",
      "\n",
      "Call to Action:\n",
      "- Encourage readers to subscribe to a newsletter for regular updates on AI trends and news\n",
      "- Invite readers to engage in discussions on social media platforms about the future of AI\n",
      "- Provide links to relevant resources and articles for further reading\n",
      "\n",
      "Resources:\n",
      "- Forbes: \"Top Artificial Intelligence Companies Leading the AI Revolution\"\n",
      "- MIT Technology Review: \"The Ethics of Artificial Intelligence\"\n",
      "- TechCrunch: \"Latest Developments in AI Technology\"\n",
      "- World Economic Forum: \"The Future of Jobs Report 2020\" \n",
      "\n",
      "By following this comprehensive content plan, the blog article on the latest trends and key players in Artificial Intelligence will provide valuable insights and information to the target audience, ultimately achieving the goal of educating and engaging readers on the future of AI technology.\n",
      "\n",
      "\u001b[00m\n",
      "\u001b[1m\u001b[95m [DEBUG]: == Working Agent: Content Writer\u001b[00m\n",
      "\u001b[1m\u001b[95m [INFO]: == Starting Task: 1. Use the content plan to craft a compelling blog post on Artificial Intelligence.\n",
      "2. Incorporate SEO keywords naturally.\n",
      "3. Sections/Subtitles are properly named in an engaging manner.\n",
      "4. Ensure the post is structured with an engaging introduction, insightful body, and a summarizing conclusion.\n",
      "5. Proofread for grammatical errors and alignment with the brand's voice.\n",
      "\u001b[00m\n",
      "\n",
      "\n",
      "\u001b[1m> Entering new CrewAgentExecutor chain...\u001b[0m\n",
      "\u001b[32;1m\u001b[1;3mI have carefully reviewed the content plan provided and I am ready to craft a compelling blog post on Artificial Intelligence that will educate and engage the target audience.\n",
      "\n",
      "Final Answer:\n",
      "\n",
      "# The Future of Artificial Intelligence: Latest Trends and Key Players\n",
      "\n",
      "**Introduction:**\n",
      "Artificial Intelligence (AI) has rapidly evolved in recent years, revolutionizing various industries and impacting our daily lives. It is crucial to stay updated on the latest trends and key players in the AI industry to understand the advancements shaping our future. This article aims to educate and inform the audience on the exciting developments in AI technology.\n",
      "\n",
      "**Latest Trends in Artificial Intelligence:**\n",
      "In the realm of AI, machine learning and deep learning have seen significant advancements, allowing machines to learn from data and perform tasks without explicit programming. Ethical considerations in AI development have also come to the forefront, highlighting the importance of responsible AI implementation. Moreover, AI integration in industries such as healthcare, finance, and transportation is transforming processes and enhancing efficiency.\n",
      "\n",
      "**Key Players in the AI Industry:**\n",
      "Leading the AI revolution are key players such as Google AI, IBM Watson, Microsoft Azure AI, Amazon Web Services AI, OpenAI, and NVIDIA. These companies are at the forefront of innovation, driving progress and pushing the boundaries of AI technology.\n",
      "\n",
      "**Noteworthy News in Artificial Intelligence:**\n",
      "Recent breakthroughs in natural language processing have enabled machines to understand and generate human language, opening up new possibilities in communication and interaction. The applications of AI in autonomous vehicles are reshaping the transportation sector, paving the way for safer and more efficient mobility. However, the impact of AI on job automation and workforce changes raises important questions about the future of work and skills needed in the AI era.\n",
      "\n",
      "**Audience Analysis:**\n",
      "For tech enthusiasts, industry professionals, and business leaders, staying updated on AI technology and understanding its impact on different industries is crucial. Navigating the complexities of AI technology and identifying trustworthy sources for AI news can be challenging, making articles like this valuable for gaining insights into the future of AI.\n",
      "\n",
      "**Call to Action:**\n",
      "I encourage readers to subscribe to a newsletter for regular updates on AI trends and news, stay informed, and engage in discussions on social media platforms about the future of AI. Links to relevant resources and articles for further reading are provided to deepen understanding and knowledge of AI advancements.\n",
      "\n",
      "By following this comprehensive content plan, the blog article on the latest trends and key players in Artificial Intelligence will provide valuable insights and information to the target audience, ultimately achieving the goal of educating and engaging readers on the future of AI technology.\n",
      "\n",
      "Let me know if there is anything else you would like me to add or adjust to make this blog post even more compelling and informative.\u001b[0m\n",
      "\n",
      "\u001b[1m> Finished chain.\u001b[0m\n",
      "\u001b[1m\u001b[92m [DEBUG]: == [Content Writer] Task output: # The Future of Artificial Intelligence: Latest Trends and Key Players\n",
      "\n",
      "**Introduction:**\n",
      "Artificial Intelligence (AI) has rapidly evolved in recent years, revolutionizing various industries and impacting our daily lives. It is crucial to stay updated on the latest trends and key players in the AI industry to understand the advancements shaping our future. This article aims to educate and inform the audience on the exciting developments in AI technology.\n",
      "\n",
      "**Latest Trends in Artificial Intelligence:**\n",
      "In the realm of AI, machine learning and deep learning have seen significant advancements, allowing machines to learn from data and perform tasks without explicit programming. Ethical considerations in AI development have also come to the forefront, highlighting the importance of responsible AI implementation. Moreover, AI integration in industries such as healthcare, finance, and transportation is transforming processes and enhancing efficiency.\n",
      "\n",
      "**Key Players in the AI Industry:**\n",
      "Leading the AI revolution are key players such as Google AI, IBM Watson, Microsoft Azure AI, Amazon Web Services AI, OpenAI, and NVIDIA. These companies are at the forefront of innovation, driving progress and pushing the boundaries of AI technology.\n",
      "\n",
      "**Noteworthy News in Artificial Intelligence:**\n",
      "Recent breakthroughs in natural language processing have enabled machines to understand and generate human language, opening up new possibilities in communication and interaction. The applications of AI in autonomous vehicles are reshaping the transportation sector, paving the way for safer and more efficient mobility. However, the impact of AI on job automation and workforce changes raises important questions about the future of work and skills needed in the AI era.\n",
      "\n",
      "**Audience Analysis:**\n",
      "For tech enthusiasts, industry professionals, and business leaders, staying updated on AI technology and understanding its impact on different industries is crucial. Navigating the complexities of AI technology and identifying trustworthy sources for AI news can be challenging, making articles like this valuable for gaining insights into the future of AI.\n",
      "\n",
      "**Call to Action:**\n",
      "I encourage readers to subscribe to a newsletter for regular updates on AI trends and news, stay informed, and engage in discussions on social media platforms about the future of AI. Links to relevant resources and articles for further reading are provided to deepen understanding and knowledge of AI advancements.\n",
      "\n",
      "By following this comprehensive content plan, the blog article on the latest trends and key players in Artificial Intelligence will provide valuable insights and information to the target audience, ultimately achieving the goal of educating and engaging readers on the future of AI technology.\n",
      "\n",
      "Let me know if there is anything else you would like me to add or adjust to make this blog post even more compelling and informative.\n",
      "\n",
      "\u001b[00m\n",
      "\u001b[1m\u001b[95m [DEBUG]: == Working Agent: Editor\u001b[00m\n",
      "\u001b[1m\u001b[95m [INFO]: == Starting Task: Proofread the given blog post for grammatical errors and alignment with the brand's voice.\u001b[00m\n",
      "\n",
      "\n",
      "\u001b[1m> Entering new CrewAgentExecutor chain...\u001b[0m\n"
     ]
    },
    {
     "name": "stdout",
     "output_type": "stream",
     "text": [
      "\u001b[32;1m\u001b[1;3mI now can give a great answer\n",
      "\n",
      "Final Answer:\n",
      "# The Future of Artificial Intelligence: Latest Trends and Key Players\n",
      "\n",
      "**Introduction:**\n",
      "Artificial Intelligence (AI) has rapidly evolved in recent years, revolutionizing various industries and impacting our daily lives. It is crucial to stay updated on the latest trends and key players in the AI industry to understand the advancements shaping our future. This article aims to educate and inform the audience on the exciting developments in AI technology.\n",
      "\n",
      "**Latest Trends in Artificial Intelligence:**\n",
      "In the realm of AI, machine learning and deep learning have seen significant advancements, allowing machines to learn from data and perform tasks without explicit programming. Ethical considerations in AI development have also come to the forefront, highlighting the importance of responsible AI implementation. Moreover, AI integration in industries such as healthcare, finance, and transportation is transforming processes and enhancing efficiency.\n",
      "\n",
      "**Key Players in the AI Industry:**\n",
      "Leading the AI revolution are key players such as Google AI, IBM Watson, Microsoft Azure AI, Amazon Web Services AI, OpenAI, and NVIDIA. These companies are at the forefront of innovation, driving progress and pushing the boundaries of AI technology.\n",
      "\n",
      "**Noteworthy News in Artificial Intelligence:**\n",
      "Recent breakthroughs in natural language processing have enabled machines to understand and generate human language, opening up new possibilities in communication and interaction. The applications of AI in autonomous vehicles are reshaping the transportation sector, paving the way for safer and more efficient mobility. However, the impact of AI on job automation and workforce changes raises important questions about the future of work and skills needed in the AI era.\n",
      "\n",
      "**Audience Analysis:**\n",
      "For tech enthusiasts, industry professionals, and business leaders, staying updated on AI technology and understanding its impact on different industries is crucial. Navigating the complexities of AI technology and identifying trustworthy sources for AI news can be challenging, making articles like this valuable for gaining insights into the future of AI.\n",
      "\n",
      "**Call to Action:**\n",
      "I encourage readers to subscribe to a newsletter for regular updates on AI trends and news, stay informed, and engage in discussions on social media platforms about the future of AI. Links to relevant resources and articles for further reading are provided to deepen understanding and knowledge of AI advancements.\n",
      "\n",
      "By following this comprehensive content plan, the blog article on the latest trends and key players in Artificial Intelligence will provide valuable insights and information to the target audience, ultimately achieving the goal of educating and engaging readers on the future of AI technology.\n",
      "\n",
      "Let me know if there is anything else you would like me to add or adjust to make this blog post even more compelling and informative.\u001b[0m\n",
      "\n",
      "\u001b[1m> Finished chain.\u001b[0m\n",
      "\u001b[1m\u001b[92m [DEBUG]: == [Editor] Task output: # The Future of Artificial Intelligence: Latest Trends and Key Players\n",
      "\n",
      "**Introduction:**\n",
      "Artificial Intelligence (AI) has rapidly evolved in recent years, revolutionizing various industries and impacting our daily lives. It is crucial to stay updated on the latest trends and key players in the AI industry to understand the advancements shaping our future. This article aims to educate and inform the audience on the exciting developments in AI technology.\n",
      "\n",
      "**Latest Trends in Artificial Intelligence:**\n",
      "In the realm of AI, machine learning and deep learning have seen significant advancements, allowing machines to learn from data and perform tasks without explicit programming. Ethical considerations in AI development have also come to the forefront, highlighting the importance of responsible AI implementation. Moreover, AI integration in industries such as healthcare, finance, and transportation is transforming processes and enhancing efficiency.\n",
      "\n",
      "**Key Players in the AI Industry:**\n",
      "Leading the AI revolution are key players such as Google AI, IBM Watson, Microsoft Azure AI, Amazon Web Services AI, OpenAI, and NVIDIA. These companies are at the forefront of innovation, driving progress and pushing the boundaries of AI technology.\n",
      "\n",
      "**Noteworthy News in Artificial Intelligence:**\n",
      "Recent breakthroughs in natural language processing have enabled machines to understand and generate human language, opening up new possibilities in communication and interaction. The applications of AI in autonomous vehicles are reshaping the transportation sector, paving the way for safer and more efficient mobility. However, the impact of AI on job automation and workforce changes raises important questions about the future of work and skills needed in the AI era.\n",
      "\n",
      "**Audience Analysis:**\n",
      "For tech enthusiasts, industry professionals, and business leaders, staying updated on AI technology and understanding its impact on different industries is crucial. Navigating the complexities of AI technology and identifying trustworthy sources for AI news can be challenging, making articles like this valuable for gaining insights into the future of AI.\n",
      "\n",
      "**Call to Action:**\n",
      "I encourage readers to subscribe to a newsletter for regular updates on AI trends and news, stay informed, and engage in discussions on social media platforms about the future of AI. Links to relevant resources and articles for further reading are provided to deepen understanding and knowledge of AI advancements.\n",
      "\n",
      "By following this comprehensive content plan, the blog article on the latest trends and key players in Artificial Intelligence will provide valuable insights and information to the target audience, ultimately achieving the goal of educating and engaging readers on the future of AI technology.\n",
      "\n",
      "Let me know if there is anything else you would like me to add or adjust to make this blog post even more compelling and informative.\n",
      "\n",
      "\u001b[00m\n"
     ]
    }
   ],
   "source": [
    "result = crew.kickoff(inputs={\"topic\": \"Artificial Intelligence\"})"
   ]
  },
  {
   "cell_type": "markdown",
   "metadata": {},
   "source": [
    "- Display the results of your execution as markdown in the notebook."
   ]
  },
  {
   "cell_type": "code",
   "execution_count": 12,
   "metadata": {
    "height": 48
   },
   "outputs": [
    {
     "data": {
      "text/markdown": [
       "# The Future of Artificial Intelligence: Latest Trends and Key Players\n",
       "\n",
       "**Introduction:**\n",
       "Artificial Intelligence (AI) has rapidly evolved in recent years, revolutionizing various industries and impacting our daily lives. It is crucial to stay updated on the latest trends and key players in the AI industry to understand the advancements shaping our future. This article aims to educate and inform the audience on the exciting developments in AI technology.\n",
       "\n",
       "**Latest Trends in Artificial Intelligence:**\n",
       "In the realm of AI, machine learning and deep learning have seen significant advancements, allowing machines to learn from data and perform tasks without explicit programming. Ethical considerations in AI development have also come to the forefront, highlighting the importance of responsible AI implementation. Moreover, AI integration in industries such as healthcare, finance, and transportation is transforming processes and enhancing efficiency.\n",
       "\n",
       "**Key Players in the AI Industry:**\n",
       "Leading the AI revolution are key players such as Google AI, IBM Watson, Microsoft Azure AI, Amazon Web Services AI, OpenAI, and NVIDIA. These companies are at the forefront of innovation, driving progress and pushing the boundaries of AI technology.\n",
       "\n",
       "**Noteworthy News in Artificial Intelligence:**\n",
       "Recent breakthroughs in natural language processing have enabled machines to understand and generate human language, opening up new possibilities in communication and interaction. The applications of AI in autonomous vehicles are reshaping the transportation sector, paving the way for safer and more efficient mobility. However, the impact of AI on job automation and workforce changes raises important questions about the future of work and skills needed in the AI era.\n",
       "\n",
       "**Audience Analysis:**\n",
       "For tech enthusiasts, industry professionals, and business leaders, staying updated on AI technology and understanding its impact on different industries is crucial. Navigating the complexities of AI technology and identifying trustworthy sources for AI news can be challenging, making articles like this valuable for gaining insights into the future of AI.\n",
       "\n",
       "**Call to Action:**\n",
       "I encourage readers to subscribe to a newsletter for regular updates on AI trends and news, stay informed, and engage in discussions on social media platforms about the future of AI. Links to relevant resources and articles for further reading are provided to deepen understanding and knowledge of AI advancements.\n",
       "\n",
       "By following this comprehensive content plan, the blog article on the latest trends and key players in Artificial Intelligence will provide valuable insights and information to the target audience, ultimately achieving the goal of educating and engaging readers on the future of AI technology.\n",
       "\n",
       "Let me know if there is anything else you would like me to add or adjust to make this blog post even more compelling and informative."
      ],
      "text/plain": [
       "<IPython.core.display.Markdown object>"
      ]
     },
     "execution_count": 12,
     "metadata": {},
     "output_type": "execute_result"
    }
   ],
   "source": [
    "from IPython.display import Markdown\n",
    "Markdown(result)"
   ]
  },
  {
   "cell_type": "markdown",
   "metadata": {},
   "source": [
    "## Try it Yourself\n",
    "\n",
    "- Pass in a topic of your choice and see what the agents come up with!"
   ]
  },
  {
   "cell_type": "code",
   "execution_count": 13,
   "metadata": {
    "height": 48
   },
   "outputs": [
    {
     "name": "stdout",
     "output_type": "stream",
     "text": [
      "\u001b[1m\u001b[95m [DEBUG]: == Working Agent: Content Planner\u001b[00m\n",
      "\u001b[1m\u001b[95m [INFO]: == Starting Task: 1. Prioritize the latest trends, key players, and noteworthy news on Sports Cars.\n",
      "2. Identify the target audience, considering their interests and pain points.\n",
      "3. Develop a detailed content outline including an introduction, key points, and a call to action.\n",
      "4. Include SEO keywords and relevant data or sources.\u001b[00m\n",
      "\n",
      "\n",
      "\u001b[1m> Entering new CrewAgentExecutor chain...\u001b[0m\n",
      "\u001b[32;1m\u001b[1;3mI now can give a great answer\n",
      "\n",
      "Final Answer: \n",
      "\n",
      "Content Plan: Sports Cars\n",
      "\n",
      "Outline:\n",
      "I. Introduction\n",
      "- Definition of sports cars\n",
      "- Brief history of sports cars\n",
      "- Why sports cars are popular\n",
      "\n",
      "II. Latest Trends in Sports Cars\n",
      "- Electric sports cars\n",
      "- Autonomous driving technology in sports cars\n",
      "- Sustainable materials in sports car manufacturing\n",
      "\n",
      "III. Key Players in the Sports Car Industry\n",
      "- Ferrari\n",
      "- Lamborghini\n",
      "- Porsche\n",
      "- McLaren\n",
      "\n",
      "IV. Noteworthy News in Sports Cars\n",
      "- Recent advancements in sports car technology\n",
      "- New sports car models released by key players\n",
      "- Performance upgrades in sports cars\n",
      "\n",
      "V. Target Audience Analysis\n",
      "- Enthusiasts of high-performance vehicles\n",
      "- Automotive industry professionals\n",
      "- Luxury car buyers\n",
      "- Millennials interested in cutting-edge technology\n",
      "\n",
      "VI. SEO Keywords\n",
      "- Sports cars\n",
      "- High-performance vehicles\n",
      "- Electric sports cars\n",
      "- Luxury car market\n",
      "- Autonomous driving technology\n",
      "\n",
      "VII. Resources\n",
      "- Automotive News\n",
      "- Car and Driver magazine\n",
      "- Top Gear website\n",
      "- Motor Trend magazine\n",
      "- Sports Car Market magazine\n",
      "\n",
      "VIII. Call to Action\n",
      "- Encourage readers to explore the latest sports car models\n",
      "- Invite readers to stay informed about the sports car industry news\n",
      "- Provide links to reputable sources for further reading\n",
      "\n",
      "This comprehensive content plan on sports cars aims to engage the target audience with informative and factually accurate information while incorporating relevant SEO keywords to enhance visibility and reach. By highlighting the latest trends, key players, and noteworthy news in the sports car industry, this blog article will provide valuable insights for enthusiasts and industry professionals alike.\u001b[0m\n",
      "\n",
      "\u001b[1m> Finished chain.\u001b[0m\n",
      "\u001b[1m\u001b[92m [DEBUG]: == [Content Planner] Task output: Content Plan: Sports Cars\n",
      "\n",
      "Outline:\n",
      "I. Introduction\n",
      "- Definition of sports cars\n",
      "- Brief history of sports cars\n",
      "- Why sports cars are popular\n",
      "\n",
      "II. Latest Trends in Sports Cars\n",
      "- Electric sports cars\n",
      "- Autonomous driving technology in sports cars\n",
      "- Sustainable materials in sports car manufacturing\n",
      "\n",
      "III. Key Players in the Sports Car Industry\n",
      "- Ferrari\n",
      "- Lamborghini\n",
      "- Porsche\n",
      "- McLaren\n",
      "\n",
      "IV. Noteworthy News in Sports Cars\n",
      "- Recent advancements in sports car technology\n",
      "- New sports car models released by key players\n",
      "- Performance upgrades in sports cars\n",
      "\n",
      "V. Target Audience Analysis\n",
      "- Enthusiasts of high-performance vehicles\n",
      "- Automotive industry professionals\n",
      "- Luxury car buyers\n",
      "- Millennials interested in cutting-edge technology\n",
      "\n",
      "VI. SEO Keywords\n",
      "- Sports cars\n",
      "- High-performance vehicles\n",
      "- Electric sports cars\n",
      "- Luxury car market\n",
      "- Autonomous driving technology\n",
      "\n",
      "VII. Resources\n",
      "- Automotive News\n",
      "- Car and Driver magazine\n",
      "- Top Gear website\n",
      "- Motor Trend magazine\n",
      "- Sports Car Market magazine\n",
      "\n",
      "VIII. Call to Action\n",
      "- Encourage readers to explore the latest sports car models\n",
      "- Invite readers to stay informed about the sports car industry news\n",
      "- Provide links to reputable sources for further reading\n",
      "\n",
      "This comprehensive content plan on sports cars aims to engage the target audience with informative and factually accurate information while incorporating relevant SEO keywords to enhance visibility and reach. By highlighting the latest trends, key players, and noteworthy news in the sports car industry, this blog article will provide valuable insights for enthusiasts and industry professionals alike.\n",
      "\n",
      "\u001b[00m\n",
      "\u001b[1m\u001b[95m [DEBUG]: == Working Agent: Content Writer\u001b[00m\n",
      "\u001b[1m\u001b[95m [INFO]: == Starting Task: 1. Use the content plan to craft a compelling blog post on Sports Cars.\n",
      "2. Incorporate SEO keywords naturally.\n",
      "3. Sections/Subtitles are properly named in an engaging manner.\n",
      "4. Ensure the post is structured with an engaging introduction, insightful body, and a summarizing conclusion.\n",
      "5. Proofread for grammatical errors and alignment with the brand's voice.\n",
      "\u001b[00m\n",
      "\n",
      "\n",
      "\u001b[1m> Entering new CrewAgentExecutor chain...\u001b[0m\n",
      "\u001b[32;1m\u001b[1;3mI now can give a great answer\n",
      "\n",
      "Final Answer: \n",
      "\n",
      "# The Thrilling World of Sports Cars\n",
      "\n",
      "## Introduction\n",
      "\n",
      "Sports cars are a category of automobiles known for their high performance, sleek designs, and exhilarating driving experiences. These vehicles have a rich history dating back to the early 20th century when manufacturers began producing cars specifically designed for speed and agility. Today, sports cars continue to captivate enthusiasts and casual drivers alike with their combination of power and precision on the road.\n",
      "\n",
      "## Latest Trends in Sports Cars\n",
      "\n",
      "In recent years, the sports car industry has seen a shift towards sustainability and innovation. Electric sports cars have gained popularity as environmentally conscious consumers seek alternatives to traditional gasoline-powered vehicles. Additionally, autonomous driving technology has been integrated into some sports car models, offering a glimpse into the future of automotive design. Manufacturers are also exploring the use of sustainable materials in sports car manufacturing, further pushing the boundaries of eco-friendly performance vehicles.\n",
      "\n",
      "## Key Players in the Sports Car Industry\n",
      "\n",
      "Some of the most iconic names in the sports car industry include Ferrari, Lamborghini, Porsche, and McLaren. These manufacturers have a long-standing reputation for producing high-quality, high-performance vehicles that push the boundaries of automotive engineering. With a focus on innovation and precision, these key players continue to set the standard for excellence in the sports car market.\n",
      "\n",
      "## Noteworthy News in Sports Cars\n",
      "\n",
      "Recent advancements in sports car technology have revolutionized the driving experience for enthusiasts around the world. From improved aerodynamics to enhanced engine performance, new sports car models released by key players have raised the bar for speed and handling. Performance upgrades in sports cars have also become more accessible, allowing drivers to customize their vehicles for optimal performance on the track and the road.\n",
      "\n",
      "## Target Audience Analysis\n",
      "\n",
      "Enthusiasts of high-performance vehicles, automotive industry professionals, luxury car buyers, and millennials interested in cutting-edge technology make up the target audience for sports cars. With a shared passion for speed and innovation, these individuals are drawn to the excitement and sophistication of sports cars, making them a key demographic for manufacturers and marketers in the industry.\n",
      "\n",
      "## Call to Action\n",
      "\n",
      "As you explore the thrilling world of sports cars, I encourage you to stay informed about the latest models and advancements in the industry. Whether you're a seasoned enthusiast or a curious newcomer, there's always something new to discover in the world of high-performance vehicles. Check out reputable sources like Automotive News, Car and Driver magazine, Top Gear website, Motor Trend magazine, and Sports Car Market magazine for more information on the latest trends and developments in the sports car industry. Happy driving!\n",
      "\n",
      "This blog post on sports cars aims to provide valuable insights and information for enthusiasts and industry professionals while incorporating relevant SEO keywords to enhance visibility and reach. With a focus on the latest trends, key players, and noteworthy news in the sports car industry, this article offers a comprehensive look at the thrilling world of high-performance vehicles.\u001b[0m\n",
      "\n",
      "\u001b[1m> Finished chain.\u001b[0m\n",
      "\u001b[1m\u001b[92m [DEBUG]: == [Content Writer] Task output: # The Thrilling World of Sports Cars\n",
      "\n",
      "## Introduction\n",
      "\n",
      "Sports cars are a category of automobiles known for their high performance, sleek designs, and exhilarating driving experiences. These vehicles have a rich history dating back to the early 20th century when manufacturers began producing cars specifically designed for speed and agility. Today, sports cars continue to captivate enthusiasts and casual drivers alike with their combination of power and precision on the road.\n",
      "\n",
      "## Latest Trends in Sports Cars\n",
      "\n",
      "In recent years, the sports car industry has seen a shift towards sustainability and innovation. Electric sports cars have gained popularity as environmentally conscious consumers seek alternatives to traditional gasoline-powered vehicles. Additionally, autonomous driving technology has been integrated into some sports car models, offering a glimpse into the future of automotive design. Manufacturers are also exploring the use of sustainable materials in sports car manufacturing, further pushing the boundaries of eco-friendly performance vehicles.\n",
      "\n",
      "## Key Players in the Sports Car Industry\n",
      "\n",
      "Some of the most iconic names in the sports car industry include Ferrari, Lamborghini, Porsche, and McLaren. These manufacturers have a long-standing reputation for producing high-quality, high-performance vehicles that push the boundaries of automotive engineering. With a focus on innovation and precision, these key players continue to set the standard for excellence in the sports car market.\n",
      "\n",
      "## Noteworthy News in Sports Cars\n",
      "\n",
      "Recent advancements in sports car technology have revolutionized the driving experience for enthusiasts around the world. From improved aerodynamics to enhanced engine performance, new sports car models released by key players have raised the bar for speed and handling. Performance upgrades in sports cars have also become more accessible, allowing drivers to customize their vehicles for optimal performance on the track and the road.\n",
      "\n",
      "## Target Audience Analysis\n",
      "\n",
      "Enthusiasts of high-performance vehicles, automotive industry professionals, luxury car buyers, and millennials interested in cutting-edge technology make up the target audience for sports cars. With a shared passion for speed and innovation, these individuals are drawn to the excitement and sophistication of sports cars, making them a key demographic for manufacturers and marketers in the industry.\n",
      "\n",
      "## Call to Action\n",
      "\n",
      "As you explore the thrilling world of sports cars, I encourage you to stay informed about the latest models and advancements in the industry. Whether you're a seasoned enthusiast or a curious newcomer, there's always something new to discover in the world of high-performance vehicles. Check out reputable sources like Automotive News, Car and Driver magazine, Top Gear website, Motor Trend magazine, and Sports Car Market magazine for more information on the latest trends and developments in the sports car industry. Happy driving!\n",
      "\n",
      "This blog post on sports cars aims to provide valuable insights and information for enthusiasts and industry professionals while incorporating relevant SEO keywords to enhance visibility and reach. With a focus on the latest trends, key players, and noteworthy news in the sports car industry, this article offers a comprehensive look at the thrilling world of high-performance vehicles.\n",
      "\n",
      "\u001b[00m\n",
      "\u001b[1m\u001b[95m [DEBUG]: == Working Agent: Editor\u001b[00m\n",
      "\u001b[1m\u001b[95m [INFO]: == Starting Task: Proofread the given blog post for grammatical errors and alignment with the brand's voice.\u001b[00m\n",
      "\n",
      "\n",
      "\u001b[1m> Entering new CrewAgentExecutor chain...\u001b[0m\n"
     ]
    },
    {
     "name": "stdout",
     "output_type": "stream",
     "text": [
      "\u001b[32;1m\u001b[1;3mI now can give a great answer\n",
      "\n",
      "Final Answer:\n",
      "# The Thrilling World of Sports Cars\n",
      "\n",
      "Sports cars have always been the epitome of high performance and sleek design, offering an exhilarating driving experience that captivates both enthusiasts and casual drivers. Dating back to the early 20th century, sports cars were specifically crafted for speed and agility, setting the foundation for the thrilling world we know today. The evolution of sports cars has led to a blend of power and precision on the road, making them a symbol of automotive excellence.\n",
      "\n",
      "In recent years, the sports car industry has witnessed a notable shift towards sustainability and innovation, with electric sports cars gaining traction among environmentally conscious consumers seeking alternative fuel options. The integration of autonomous driving technology in some sports car models offers a glimpse into the future of automotive design, highlighting a commitment to pushing boundaries. Manufacturers are also exploring the use of sustainable materials in sports car manufacturing, further solidifying the industry's dedication to eco-friendly performance vehicles.\n",
      "\n",
      "Iconic names such as Ferrari, Lamborghini, Porsche, and McLaren continue to dominate the sports car industry, renowned for their high-quality, high-performance vehicles that redefine automotive engineering standards. With a relentless focus on innovation and precision, these key players set the benchmark for excellence in the sports car market, showcasing a commitment to pushing the limits of performance and design. The continuous advancements in sports car technology have revolutionized the driving experience, with new models boasting enhanced aerodynamics and engine performance, raising the bar for speed and handling in the industry. Performance upgrades have become more accessible, allowing drivers to customize their vehicles for optimal track and road performance, catering to a diverse audience of enthusiasts, professionals, luxury car buyers, and tech-savvy millennials passionate about cutting-edge automotive technology. Enthusiasts are encouraged to explore the world of sports cars, staying informed about the latest models and advancements in the industry through reputable sources like Automotive News, Car and Driver magazine, Top Gear website, Motor Trend magazine, and Sports Car Market magazine. The thrill of high-performance vehicles awaits, offering a blend of excitement and sophistication that continues to redefine the automotive landscape. Happy driving!\u001b[0m\n",
      "\n",
      "\u001b[1m> Finished chain.\u001b[0m\n",
      "\u001b[1m\u001b[92m [DEBUG]: == [Editor] Task output: # The Thrilling World of Sports Cars\n",
      "\n",
      "Sports cars have always been the epitome of high performance and sleek design, offering an exhilarating driving experience that captivates both enthusiasts and casual drivers. Dating back to the early 20th century, sports cars were specifically crafted for speed and agility, setting the foundation for the thrilling world we know today. The evolution of sports cars has led to a blend of power and precision on the road, making them a symbol of automotive excellence.\n",
      "\n",
      "In recent years, the sports car industry has witnessed a notable shift towards sustainability and innovation, with electric sports cars gaining traction among environmentally conscious consumers seeking alternative fuel options. The integration of autonomous driving technology in some sports car models offers a glimpse into the future of automotive design, highlighting a commitment to pushing boundaries. Manufacturers are also exploring the use of sustainable materials in sports car manufacturing, further solidifying the industry's dedication to eco-friendly performance vehicles.\n",
      "\n",
      "Iconic names such as Ferrari, Lamborghini, Porsche, and McLaren continue to dominate the sports car industry, renowned for their high-quality, high-performance vehicles that redefine automotive engineering standards. With a relentless focus on innovation and precision, these key players set the benchmark for excellence in the sports car market, showcasing a commitment to pushing the limits of performance and design. The continuous advancements in sports car technology have revolutionized the driving experience, with new models boasting enhanced aerodynamics and engine performance, raising the bar for speed and handling in the industry. Performance upgrades have become more accessible, allowing drivers to customize their vehicles for optimal track and road performance, catering to a diverse audience of enthusiasts, professionals, luxury car buyers, and tech-savvy millennials passionate about cutting-edge automotive technology. Enthusiasts are encouraged to explore the world of sports cars, staying informed about the latest models and advancements in the industry through reputable sources like Automotive News, Car and Driver magazine, Top Gear website, Motor Trend magazine, and Sports Car Market magazine. The thrill of high-performance vehicles awaits, offering a blend of excitement and sophistication that continues to redefine the automotive landscape. Happy driving!\n",
      "\n",
      "\u001b[00m\n"
     ]
    }
   ],
   "source": [
    "topic = \"Sports Cars\"\n",
    "result = crew.kickoff(inputs={\"topic\": topic})"
   ]
  },
  {
   "cell_type": "code",
   "execution_count": 14,
   "metadata": {
    "height": 31
   },
   "outputs": [
    {
     "data": {
      "text/markdown": [
       "# The Thrilling World of Sports Cars\n",
       "\n",
       "Sports cars have always been the epitome of high performance and sleek design, offering an exhilarating driving experience that captivates both enthusiasts and casual drivers. Dating back to the early 20th century, sports cars were specifically crafted for speed and agility, setting the foundation for the thrilling world we know today. The evolution of sports cars has led to a blend of power and precision on the road, making them a symbol of automotive excellence.\n",
       "\n",
       "In recent years, the sports car industry has witnessed a notable shift towards sustainability and innovation, with electric sports cars gaining traction among environmentally conscious consumers seeking alternative fuel options. The integration of autonomous driving technology in some sports car models offers a glimpse into the future of automotive design, highlighting a commitment to pushing boundaries. Manufacturers are also exploring the use of sustainable materials in sports car manufacturing, further solidifying the industry's dedication to eco-friendly performance vehicles.\n",
       "\n",
       "Iconic names such as Ferrari, Lamborghini, Porsche, and McLaren continue to dominate the sports car industry, renowned for their high-quality, high-performance vehicles that redefine automotive engineering standards. With a relentless focus on innovation and precision, these key players set the benchmark for excellence in the sports car market, showcasing a commitment to pushing the limits of performance and design. The continuous advancements in sports car technology have revolutionized the driving experience, with new models boasting enhanced aerodynamics and engine performance, raising the bar for speed and handling in the industry. Performance upgrades have become more accessible, allowing drivers to customize their vehicles for optimal track and road performance, catering to a diverse audience of enthusiasts, professionals, luxury car buyers, and tech-savvy millennials passionate about cutting-edge automotive technology. Enthusiasts are encouraged to explore the world of sports cars, staying informed about the latest models and advancements in the industry through reputable sources like Automotive News, Car and Driver magazine, Top Gear website, Motor Trend magazine, and Sports Car Market magazine. The thrill of high-performance vehicles awaits, offering a blend of excitement and sophistication that continues to redefine the automotive landscape. Happy driving!"
      ],
      "text/plain": [
       "<IPython.core.display.Markdown object>"
      ]
     },
     "execution_count": 14,
     "metadata": {},
     "output_type": "execute_result"
    }
   ],
   "source": [
    "Markdown(result)"
   ]
  },
  {
   "cell_type": "markdown",
   "metadata": {},
   "source": [
    "<a name='1'></a>\n",
    " ## Other Popular Models as LLM for your Agents"
   ]
  },
  {
   "cell_type": "markdown",
   "metadata": {},
   "source": [
    "#### Hugging Face (HuggingFaceHub endpoint)\n",
    "\n",
    "```Python\n",
    "from langchain_community.llms import HuggingFaceHub\n",
    "\n",
    "llm = HuggingFaceHub(\n",
    "    repo_id=\"HuggingFaceH4/zephyr-7b-beta\",\n",
    "    huggingfacehub_api_token=\"<HF_TOKEN_HERE>\",\n",
    "    task=\"text-generation\",\n",
    ")\n",
    "\n",
    "### you will pass \"llm\" to your agent function\n",
    "```"
   ]
  },
  {
   "cell_type": "markdown",
   "metadata": {},
   "source": [
    "#### Mistral API\n",
    "\n",
    "```Python\n",
    "OPENAI_API_KEY=your-mistral-api-key\n",
    "OPENAI_API_BASE=https://api.mistral.ai/v1\n",
    "OPENAI_MODEL_NAME=\"mistral-small\"\n",
    "```"
   ]
  },
  {
   "cell_type": "markdown",
   "metadata": {},
   "source": [
    "#### Cohere\n",
    "\n",
    "```Python\n",
    "from langchain_community.chat_models import ChatCohere\n",
    "# Initialize language model\n",
    "os.environ[\"COHERE_API_KEY\"] = \"your-cohere-api-key\"\n",
    "llm = ChatCohere()\n",
    "\n",
    "### you will pass \"llm\" to your agent function\n",
    "```"
   ]
  },
  {
   "cell_type": "markdown",
   "metadata": {},
   "source": [
    "### For using Llama locally with Ollama and more, checkout the crewAI documentation on [Connecting to any LLM](https://docs.crewai.com/how-to/LLM-Connections/)."
   ]
  },
  {
   "cell_type": "code",
   "execution_count": null,
   "metadata": {
    "height": 31
   },
   "outputs": [],
   "source": []
  },
  {
   "cell_type": "code",
   "execution_count": null,
   "metadata": {
    "height": 31
   },
   "outputs": [],
   "source": []
  },
  {
   "cell_type": "code",
   "execution_count": null,
   "metadata": {
    "height": 31
   },
   "outputs": [],
   "source": []
  }
 ],
 "metadata": {
  "colab": {
   "gpuType": "T4",
   "provenance": []
  },
  "kernelspec": {
   "display_name": "Python 3 (ipykernel)",
   "language": "python",
   "name": "python3"
  },
  "language_info": {
   "codemirror_mode": {
    "name": "ipython",
    "version": 3
   },
   "file_extension": ".py",
   "mimetype": "text/x-python",
   "name": "python",
   "nbconvert_exporter": "python",
   "pygments_lexer": "ipython3",
   "version": "3.11.9"
  }
 },
 "nbformat": 4,
 "nbformat_minor": 4
}
